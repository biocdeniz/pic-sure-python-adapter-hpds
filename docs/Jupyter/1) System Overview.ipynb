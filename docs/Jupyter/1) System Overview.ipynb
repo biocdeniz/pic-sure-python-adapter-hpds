{
 "cells": [
  {
   "cell_type": "markdown",
   "metadata": {},
   "source": [
    "# What is PIC-SURE"
   ]
  },
  {
   "cell_type": "markdown",
   "metadata": {},
   "source": [
    "PIC-SURE is a an ecosystem designed to handle very large amounts of data in a secure way.  This reduces the administrative load on researchers and allows them to better focus on Data Science discoveries.  PIC-SURE is composed of two major parts: 1) the PIC-SURE framework which handles communication, security, auditing and other system tasks, and 2) Datasets which are also described as \"data resources within the PIC-SURE service\".  The PIC-SURE also allows some \"data wrangling\" on the server, easing the amount of energy required by a researcher to load, process, and trim the data down to the details needed to conduct research.\n",
    "\n",
    "\n",
    "***What PIC-SURE does is allow you to filter a dataset to only the rows and columns that you are interested in***\n",
    "![title](./resources/HPDS_Diagram.gif)"
   ]
  },
  {
   "cell_type": "markdown",
   "metadata": {},
   "source": [
    "## PIC-SURE Connector and Adapter Libraries\n",
    "All operations on PIC-SURE rely upon two component libraries: The Connection Library, and a Datasource Adapter Library.  The connection library manages network communication and authentication.  Within a PIC-SURE instance exists one or more Datasources.  Each Datasources is of a specific type and are run using different server code.  For each type of Datasource there is a Datasource Adapter Library which is written specifically to communicate with it's particular type of Datasource.\n",
    "\n",
    "\n",
    "In Python, the conneciton library is imported using the following statement:\n",
    "\n",
    "    import PicSureClient\n",
    "    \n",
    "One Datasource Adapter that can be imported is for HPDS-typed datasets.  This can be imported using the following statement:\n",
    "\n",
    "    import PicSureHpdsLib"
   ]
  },
  {
   "cell_type": "markdown",
   "metadata": {},
   "source": [
    "### Using the Connection Library to connect to a PIC-SURE endpoint\n",
    "\n",
    "\n",
    "The first step in using any PIC-SURE Resource is to establish a connection to the endpoint.  That is demonstrated the following code which: 1) imports the connection library, creates a reference to the library's communication client object, [then use the \"help()\" function on the client to see how to get the connection object]."
   ]
  },
  {
   "cell_type": "code",
   "execution_count": 1,
   "metadata": {},
   "outputs": [
    {
     "ename": "ModuleNotFoundError",
     "evalue": "No module named 'PicSureClient'",
     "output_type": "error",
     "traceback": [
      "\u001b[0;31m---------------------------------------------------------------------------\u001b[0m",
      "\u001b[0;31mModuleNotFoundError\u001b[0m                       Traceback (most recent call last)",
      "\u001b[0;32m<ipython-input-1-0799a253942f>\u001b[0m in \u001b[0;36m<module>\u001b[0;34m()\u001b[0m\n\u001b[0;32m----> 1\u001b[0;31m \u001b[0;32mimport\u001b[0m \u001b[0mPicSureClient\u001b[0m\u001b[0;34m\u001b[0m\u001b[0;34m\u001b[0m\u001b[0m\n\u001b[0m\u001b[1;32m      2\u001b[0m \u001b[0mclient\u001b[0m \u001b[0;34m=\u001b[0m \u001b[0mPicSureClient\u001b[0m\u001b[0;34m.\u001b[0m\u001b[0mClient\u001b[0m\u001b[0;34m(\u001b[0m\u001b[0;34m)\u001b[0m\u001b[0;34m\u001b[0m\u001b[0;34m\u001b[0m\u001b[0m\n\u001b[1;32m      3\u001b[0m \u001b[0mclient\u001b[0m\u001b[0;34m.\u001b[0m\u001b[0mhelp\u001b[0m\u001b[0;34m(\u001b[0m\u001b[0;34m)\u001b[0m\u001b[0;34m\u001b[0m\u001b[0;34m\u001b[0m\u001b[0m\n",
      "\u001b[0;31mModuleNotFoundError\u001b[0m: No module named 'PicSureClient'"
     ]
    }
   ],
   "source": [
    "import PicSureClient\n",
    "client = PicSureClient.Client()\n",
    "client.help()"
   ]
  },
  {
   "cell_type": "code",
   "execution_count": 9,
   "metadata": {},
   "outputs": [],
   "source": [
    "# Now create a connection object by passing the PIC-SURE endpoint URL \n",
    "# and the security token to the client object's connect() function\n",
    "\n",
    "connection = client.connect(\"http://localhost/PIC-SURE\", \"your_security_token_here\")"
   ]
  },
  {
   "cell_type": "markdown",
   "metadata": {},
   "source": [
    "## Connect to the NHANES data resource using the HPDS Adapter\n",
    "\n",
    "After a valid connection is established to the PIC-SURE endpoint a Resource Adapter can be loaded and configured by passing the connection object to it's adapter object. Once the Adapter is connected, a PIC-SURE resource object is retreved by indicating its UUID to the Adapter's *useResource()* function."
   ]
  },
  {
   "cell_type": "code",
   "execution_count": 10,
   "metadata": {},
   "outputs": [
    {
     "name": "stdout",
     "output_type": "stream",
     "text": [
      "\n",
      "        [HELP] PicSureHpdsLib.Adapter(picsure_connection)\n",
      "            .version()                      gives version information for library\n",
      "            .list()                         lists available resources\n",
      "            .useResource(resource_uuid)     returns an object for selected resource\n",
      "        \n"
     ]
    }
   ],
   "source": [
    "import PicSureHpdsLib\n",
    "adapter = PicSureHpdsLib.Adapter(connection)\n",
    "adapter = PicSureHpdsLib.BypassAdapter(\"http://pic-sure-hpds-nhanes:8080/PIC-SURE\")\n",
    "adapter.help()"
   ]
  },
  {
   "cell_type": "markdown",
   "metadata": {},
   "source": [
    "## Use adapter.list() to discover what data resource are available"
   ]
  },
  {
   "cell_type": "code",
   "execution_count": 3,
   "metadata": {},
   "outputs": [
    {
     "name": "stdout",
     "output_type": "stream",
     "text": [
      "+--------------------------------------+------------------------------------------------------\n",
      "|  Resource UUID                       |  Resource Name                                  \n",
      "+--------------------------------------+------------------------------------------------------\n",
      "| 91ad021c-00cb-4f44-98fb-72e0983fdd73 | PhenoCube v1.0-SNAPSHOT\n",
      "| Description: [Resource accessed directly (bypassing PIC-SURE framework)]\n",
      "+--------------------------------------+------------------------------------------------------\n"
     ]
    }
   ],
   "source": [
    "adapter.list()"
   ]
  },
  {
   "cell_type": "markdown",
   "metadata": {},
   "source": [
    "## Get a data resource reference to be able to work with a dataset"
   ]
  },
  {
   "cell_type": "code",
   "execution_count": 5,
   "metadata": {},
   "outputs": [
    {
     "name": "stdout",
     "output_type": "stream",
     "text": [
      "\n",
      "        [HELP] PicSureHpdsLib.useResource(resource_uuid)\n",
      "            .dictionary()       Used to access data dictionary of the resource\n",
      "            .query()            Used to query against data in the resource\n",
      "            \n",
      "        [ENVIRONMENT]\n",
      "              Endpoint URL: http://pic-sure-hpds-nhanes:8080/PIC-SURE/\n",
      "             Resource UUID: 91ad021c-00cb-4f44-98fb-72e0983fdd73\n"
     ]
    }
   ],
   "source": [
    "resource = adapter.useResource(\"91ad021c-00cb-4f44-98fb-72e0983fdd73\")\n",
    "resource.help()"
   ]
  }
 ],
 "metadata": {
  "kernelspec": {
   "display_name": "Python 3",
   "language": "python",
   "name": "python3"
  },
  "language_info": {
   "codemirror_mode": {
    "name": "ipython",
    "version": 3
   },
   "file_extension": ".py",
   "mimetype": "text/x-python",
   "name": "python",
   "nbconvert_exporter": "python",
   "pygments_lexer": "ipython3",
   "version": "3.6.7"
  }
 },
 "nbformat": 4,
 "nbformat_minor": 1
}
